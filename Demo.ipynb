{
  "nbformat": 4,
  "nbformat_minor": 0,
  "metadata": {
    "colab": {
      "provenance": []
    },
    "kernelspec": {
      "name": "python3",
      "display_name": "Python 3"
    },
    "language_info": {
      "name": "python"
    }
  },
  "cells": [
    {
      "cell_type": "code",
      "execution_count": null,
      "metadata": {
        "id": "vJuPuK1Sn92s"
      },
      "outputs": [],
      "source": [
        "from google.colab import drive\n",
        "drive.mount('/content/drive')"
      ]
    },
    {
      "cell_type": "code",
      "source": [
        "!git clone https://github.com/wingatesv/Tra_MAML.git"
      ],
      "metadata": {
        "id": "IdbRo0-Wn-hk"
      },
      "execution_count": null,
      "outputs": []
    },
    {
      "cell_type": "code",
      "source": [
        "from IPython.display import clear_output\n",
        "!sh /content/Tra_MAML/filelists/ISIC2018/get_ISIC2018.sh\n",
        "!sh /content/Tra_MAML/filelists/PapSmear/get_PapSmear.sh\n",
        "!sh /content/Tra_MAML/filelists/BreaKHis_40x/get_BreakHis_40x.sh\n",
        "!sh /content/Tra_MAML/filelists/BCHI/get_BCHI.sh\n",
        "\n",
        "clear_output()"
      ],
      "metadata": {
        "id": "Q6uEPwCaoASP"
      },
      "execution_count": null,
      "outputs": []
    },
    {
      "cell_type": "code",
      "source": [
        "DATASET_NAME=\"cross_IDC\" # BreaKHis_40x ISIC Smear\n",
        "N_SHOT = \"1\"\n",
        "AUG = \"standard\" #standard, auto, rand, augmix\n",
        "METHOD = \"tra_maml\"\n",
        "\n",
        "!python /content/Tra_MAML/train.py --dataset $DATASET_NAME  --model Conv4 --method $METHOD --tra 1-5-0.4  --train_n_way 3 --test_n_way 3 --n_shot 1 --stop_epoch 5 --train_aug $AUG\n",
        "# !python /content/Tra_MAML/save_features.py --dataset $DATASET_NAME  --model Conv4 --method $METHOD  --train_n_way 3 --n_shot 1 --test_n_way 3 --train_aug $AUG\n",
        "!python /content/Tra_MAML/test.py --dataset $DATASET_NAME  --model Conv4 --method $METHOD  --tra 1-5-0.4 --train_n_way 3 --test_n_way 3 --n_shot 1 --train_aug $AUG"
      ],
      "metadata": {
        "id": "cc16PcDuoFoR"
      },
      "execution_count": null,
      "outputs": []
    }
  ]
}